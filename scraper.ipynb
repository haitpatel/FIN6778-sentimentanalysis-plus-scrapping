{
 "cells": [
  {
   "cell_type": "code",
   "execution_count": 196,
   "metadata": {},
   "outputs": [],
   "source": [
    "from selenium import webdriver\n",
    "import os\n",
    "import sys\n",
    "os.path.dirname(sys.executable)\n",
    "import time\n",
    "\n",
    "from selenium.webdriver.common.by import By\n",
    "from selenium.webdriver.common.keys import Keys\n",
    "from selenium.webdriver.support.ui import WebDriverWait\n",
    "from selenium.webdriver.support import expected_conditions as EC\n",
    "from selenium.webdriver.support.ui import Select\n"
   ]
  },
  {
   "cell_type": "code",
   "execution_count": 197,
   "metadata": {},
   "outputs": [],
   "source": [
    "time.sleep(5)"
   ]
  },
  {
   "cell_type": "code",
   "execution_count": 198,
   "metadata": {},
   "outputs": [],
   "source": [
    "driver = webdriver.Chrome()\n",
    "\n",
    "# Navigate to Wikipedia homepage\n",
    "driver.get('https://guides.ucf.edu/nexis')\n",
    "\n",
    "link = driver.find_element(By.LINK_TEXT, 'Nexis Uni')\n",
    "link.click()\n",
    "time.sleep(10)\n"
   ]
  },
  {
   "cell_type": "code",
   "execution_count": 199,
   "metadata": {},
   "outputs": [],
   "source": [
    "\n",
    "driver.find_element(By.ID, \"userNameInput\").send_keys(\"ha772806\")\n",
    "\n",
    "time.sleep(1)\n"
   ]
  },
  {
   "cell_type": "code",
   "execution_count": 200,
   "metadata": {},
   "outputs": [],
   "source": [
    "driver.find_element(By.ID, \"passwordInput\").send_keys(\"\")\n",
    "time.sleep(1)\n"
   ]
  },
  {
   "cell_type": "code",
   "execution_count": 201,
   "metadata": {},
   "outputs": [],
   "source": [
    "driver.find_element(By.ID, \"submitButton\").click()\n",
    "time.sleep(30)\n"
   ]
  },
  {
   "cell_type": "code",
   "execution_count": 202,
   "metadata": {},
   "outputs": [],
   "source": [
    "driver.find_element(By.ID, \"urn:querytemplate:78338d18781c574d11af5fa2f7097c99\").click()\n",
    "time.sleep(5)\n"
   ]
  },
  {
   "cell_type": "code",
   "execution_count": 203,
   "metadata": {},
   "outputs": [],
   "source": [
    "driver.find_element(By.CLASS_NAME, \"academic-searchterms\").send_keys(\"Apple, Inc\")\n"
   ]
  },
  {
   "cell_type": "code",
   "execution_count": 204,
   "metadata": {},
   "outputs": [],
   "source": [
    "\n",
    "dropdown = driver.find_element(By.ID, 'selectDateFilterOption')\n",
    "select = Select(dropdown)\n",
    "select.select_by_visible_text('Select date range')\n"
   ]
  },
  {
   "cell_type": "code",
   "execution_count": 205,
   "metadata": {},
   "outputs": [],
   "source": [
    "\n",
    "# selecting the date range\n",
    "\n",
    "driver.find_element(By.XPATH, '/html/body/div/div/div[12]/div[2]/div[1]/header/div[5]/div/div/div[2]/div[2]/div/div[2]/div/div[3]/div/div[2]/div[1]/div/div[2]/button').click()\n",
    "time.sleep(2)\n",
    "driver.find_element(By.XPATH, '/html/body/div/div/div[12]/div[2]/div[1]/header/div[5]/div/div/div[2]/div[2]/div/div[2]/div/div[3]/div/div[2]/div[1]/div/div[2]/div/h3/div[1]/button').click()\n",
    "time.sleep(2)\n",
    "driver.find_element(By.XPATH, '/html/body/div/div/div[12]/div[2]/div[1]/header/div[5]/div/div/div[2]/div[2]/div/div[2]/div/div[3]/div/div[2]/div[1]/div/div[2]/div/h3/div[1]/ol/li[6]/button').click()\n",
    "time.sleep(2)\n",
    "driver.find_element(By.XPATH, '/html/body/div/div/div[12]/div[2]/div[1]/header/div[5]/div/div/div[2]/div[2]/div/div[2]/div/div[3]/div/div[2]/div[1]/div/div[2]/div/table/tbody/tr[2]/td[5]/button').click()\n",
    "time.sleep(2)\n",
    "driver.find_element(By.XPATH, '/html/body/div/div/div[12]/div[2]/div[1]/header/div[5]/div/div/div[2]/div[2]/div/div[2]/div/div[3]/div/div[2]/div[2]/div/div[2]/button').click()\n",
    "time.sleep(2)\n",
    "driver.find_element(By.XPATH, '/html/body/div/div/div[12]/div[2]/div[1]/header/div[5]/div/div/div[2]/div[2]/div/div[2]/div/div[3]/div/div[2]/div[2]/div/div[2]/div/h3/div[1]/button').click()\n",
    "time.sleep(2)\n",
    "driver.find_element(By.XPATH, '/html/body/div/div/div[12]/div[2]/div[1]/header/div[5]/div/div/div[2]/div[2]/div/div[2]/div/div[3]/div/div[2]/div[2]/div/div[2]/div/h3/div[1]/ol/li[7]/button').click()\n",
    "time.sleep(2)\n",
    "driver.find_element(By.XPATH, '/html/body/div/div/div[12]/div[2]/div[1]/header/div[5]/div/div/div[2]/div[2]/div/div[2]/div/div[3]/div/div[2]/div[2]/div/div[2]/div/table/tbody/tr[6]/td[2]/button').click()\n",
    "time.sleep(4)\n",
    "driver.find_element(By.CLASS_NAME, \"BISGO\").click()\n"
   ]
  },
  {
   "cell_type": "code",
   "execution_count": 206,
   "metadata": {},
   "outputs": [
    {
     "ename": "NoSuchElementException",
     "evalue": "Message: no such element: Unable to locate element: {\"method\":\"xpath\",\"selector\":\"/html/body/div[1]/div/main/div[2]/div/div[1]/div/div[2]/div/ul/ul[6]/li[7]/label\"}\n  (Session info: chrome=119.0.6045.124); For documentation on this error, please visit: https://www.selenium.dev/documentation/webdriver/troubleshooting/errors#no-such-element-exception\nStacktrace:\n\tGetHandleVerifier [0x00007FF6CA0382B2+55298]\n\t(No symbol) [0x00007FF6C9FA5E02]\n\t(No symbol) [0x00007FF6C9E605AB]\n\t(No symbol) [0x00007FF6C9EA175C]\n\t(No symbol) [0x00007FF6C9EA18DC]\n\t(No symbol) [0x00007FF6C9EDCBC7]\n\t(No symbol) [0x00007FF6C9EC20EF]\n\t(No symbol) [0x00007FF6C9EDAAA4]\n\t(No symbol) [0x00007FF6C9EC1E83]\n\t(No symbol) [0x00007FF6C9E9670A]\n\t(No symbol) [0x00007FF6C9E97964]\n\tGetHandleVerifier [0x00007FF6CA3B0AAB+3694587]\n\tGetHandleVerifier [0x00007FF6CA40728E+4048862]\n\tGetHandleVerifier [0x00007FF6CA3FF173+4015811]\n\tGetHandleVerifier [0x00007FF6CA0D47D6+695590]\n\t(No symbol) [0x00007FF6C9FB0CE8]\n\t(No symbol) [0x00007FF6C9FACF34]\n\t(No symbol) [0x00007FF6C9FAD062]\n\t(No symbol) [0x00007FF6C9F9D3A3]\n\tBaseThreadInitThunk [0x00007FFD7065257D+29]\n\tRtlUserThreadStart [0x00007FFD71C0AA78+40]\n",
     "output_type": "error",
     "traceback": [
      "\u001b[1;31m---------------------------------------------------------------------------\u001b[0m",
      "\u001b[1;31mNoSuchElementException\u001b[0m                    Traceback (most recent call last)",
      "\u001b[1;32mc:\\Users\\haitp\\projects\\FIN6778-sentimentanalysis-plus-scrapping\\scraper.ipynb Cell 11\u001b[0m line \u001b[0;36m4\n\u001b[0;32m      <a href='vscode-notebook-cell:/c%3A/Users/haitp/projects/FIN6778-sentimentanalysis-plus-scrapping/scraper.ipynb#X21sZmlsZQ%3D%3D?line=0'>1</a>\u001b[0m \u001b[39m# Geography by doc\u001b[39;00m\n\u001b[0;32m      <a href='vscode-notebook-cell:/c%3A/Users/haitp/projects/FIN6778-sentimentanalysis-plus-scrapping/scraper.ipynb#X21sZmlsZQ%3D%3D?line=1'>2</a>\u001b[0m driver\u001b[39m.\u001b[39mfind_element(By\u001b[39m.\u001b[39mXPATH,\u001b[39m'\u001b[39m\u001b[39m/html/body/div[1]/div/main/div[2]/div/div[1]/div/div[2]/div/ul/button[7]\u001b[39m\u001b[39m'\u001b[39m)\u001b[39m.\u001b[39mclick()\n\u001b[1;32m----> <a href='vscode-notebook-cell:/c%3A/Users/haitp/projects/FIN6778-sentimentanalysis-plus-scrapping/scraper.ipynb#X21sZmlsZQ%3D%3D?line=3'>4</a>\u001b[0m driver\u001b[39m.\u001b[39;49mfind_element(By\u001b[39m.\u001b[39;49mXPATH,\u001b[39m'\u001b[39;49m\u001b[39m/html/body/div[1]/div/main/div[2]/div/div[1]/div/div[2]/div/ul/ul[6]/li[7]/label\u001b[39;49m\u001b[39m'\u001b[39;49m)\u001b[39m.\u001b[39mclick()\n",
      "File \u001b[1;32m~\\AppData\\Roaming\\Python\\Python38\\site-packages\\selenium\\webdriver\\remote\\webdriver.py:741\u001b[0m, in \u001b[0;36mWebDriver.find_element\u001b[1;34m(self, by, value)\u001b[0m\n\u001b[0;32m    738\u001b[0m     by \u001b[39m=\u001b[39m By\u001b[39m.\u001b[39mCSS_SELECTOR\n\u001b[0;32m    739\u001b[0m     value \u001b[39m=\u001b[39m \u001b[39mf\u001b[39m\u001b[39m'\u001b[39m\u001b[39m[name=\u001b[39m\u001b[39m\"\u001b[39m\u001b[39m{\u001b[39;00mvalue\u001b[39m}\u001b[39;00m\u001b[39m\"\u001b[39m\u001b[39m]\u001b[39m\u001b[39m'\u001b[39m\n\u001b[1;32m--> 741\u001b[0m \u001b[39mreturn\u001b[39;00m \u001b[39mself\u001b[39;49m\u001b[39m.\u001b[39;49mexecute(Command\u001b[39m.\u001b[39;49mFIND_ELEMENT, {\u001b[39m\"\u001b[39;49m\u001b[39musing\u001b[39;49m\u001b[39m\"\u001b[39;49m: by, \u001b[39m\"\u001b[39;49m\u001b[39mvalue\u001b[39;49m\u001b[39m\"\u001b[39;49m: value})[\u001b[39m\"\u001b[39m\u001b[39mvalue\u001b[39m\u001b[39m\"\u001b[39m]\n",
      "File \u001b[1;32m~\\AppData\\Roaming\\Python\\Python38\\site-packages\\selenium\\webdriver\\remote\\webdriver.py:347\u001b[0m, in \u001b[0;36mWebDriver.execute\u001b[1;34m(self, driver_command, params)\u001b[0m\n\u001b[0;32m    345\u001b[0m response \u001b[39m=\u001b[39m \u001b[39mself\u001b[39m\u001b[39m.\u001b[39mcommand_executor\u001b[39m.\u001b[39mexecute(driver_command, params)\n\u001b[0;32m    346\u001b[0m \u001b[39mif\u001b[39;00m response:\n\u001b[1;32m--> 347\u001b[0m     \u001b[39mself\u001b[39;49m\u001b[39m.\u001b[39;49merror_handler\u001b[39m.\u001b[39;49mcheck_response(response)\n\u001b[0;32m    348\u001b[0m     response[\u001b[39m\"\u001b[39m\u001b[39mvalue\u001b[39m\u001b[39m\"\u001b[39m] \u001b[39m=\u001b[39m \u001b[39mself\u001b[39m\u001b[39m.\u001b[39m_unwrap_value(response\u001b[39m.\u001b[39mget(\u001b[39m\"\u001b[39m\u001b[39mvalue\u001b[39m\u001b[39m\"\u001b[39m, \u001b[39mNone\u001b[39;00m))\n\u001b[0;32m    349\u001b[0m     \u001b[39mreturn\u001b[39;00m response\n",
      "File \u001b[1;32m~\\AppData\\Roaming\\Python\\Python38\\site-packages\\selenium\\webdriver\\remote\\errorhandler.py:229\u001b[0m, in \u001b[0;36mErrorHandler.check_response\u001b[1;34m(self, response)\u001b[0m\n\u001b[0;32m    227\u001b[0m         alert_text \u001b[39m=\u001b[39m value[\u001b[39m\"\u001b[39m\u001b[39malert\u001b[39m\u001b[39m\"\u001b[39m]\u001b[39m.\u001b[39mget(\u001b[39m\"\u001b[39m\u001b[39mtext\u001b[39m\u001b[39m\"\u001b[39m)\n\u001b[0;32m    228\u001b[0m     \u001b[39mraise\u001b[39;00m exception_class(message, screen, stacktrace, alert_text)  \u001b[39m# type: ignore[call-arg]  # mypy is not smart enough here\u001b[39;00m\n\u001b[1;32m--> 229\u001b[0m \u001b[39mraise\u001b[39;00m exception_class(message, screen, stacktrace)\n",
      "\u001b[1;31mNoSuchElementException\u001b[0m: Message: no such element: Unable to locate element: {\"method\":\"xpath\",\"selector\":\"/html/body/div[1]/div/main/div[2]/div/div[1]/div/div[2]/div/ul/ul[6]/li[7]/label\"}\n  (Session info: chrome=119.0.6045.124); For documentation on this error, please visit: https://www.selenium.dev/documentation/webdriver/troubleshooting/errors#no-such-element-exception\nStacktrace:\n\tGetHandleVerifier [0x00007FF6CA0382B2+55298]\n\t(No symbol) [0x00007FF6C9FA5E02]\n\t(No symbol) [0x00007FF6C9E605AB]\n\t(No symbol) [0x00007FF6C9EA175C]\n\t(No symbol) [0x00007FF6C9EA18DC]\n\t(No symbol) [0x00007FF6C9EDCBC7]\n\t(No symbol) [0x00007FF6C9EC20EF]\n\t(No symbol) [0x00007FF6C9EDAAA4]\n\t(No symbol) [0x00007FF6C9EC1E83]\n\t(No symbol) [0x00007FF6C9E9670A]\n\t(No symbol) [0x00007FF6C9E97964]\n\tGetHandleVerifier [0x00007FF6CA3B0AAB+3694587]\n\tGetHandleVerifier [0x00007FF6CA40728E+4048862]\n\tGetHandleVerifier [0x00007FF6CA3FF173+4015811]\n\tGetHandleVerifier [0x00007FF6CA0D47D6+695590]\n\t(No symbol) [0x00007FF6C9FB0CE8]\n\t(No symbol) [0x00007FF6C9FACF34]\n\t(No symbol) [0x00007FF6C9FAD062]\n\t(No symbol) [0x00007FF6C9F9D3A3]\n\tBaseThreadInitThunk [0x00007FFD7065257D+29]\n\tRtlUserThreadStart [0x00007FFD71C0AA78+40]\n"
     ]
    }
   ],
   "source": [
    "# Geography by doc\n",
    "driver.find_element(By.XPATH,'/html/body/div[1]/div/main/div[2]/div/div[1]/div/div[2]/div/ul/button[7]').click()\n",
    "\n",
    "driver.find_element(By.XPATH,'/html/body/div[1]/div/main/div[2]/div/div[1]/div/div[2]/div/ul/ul[6]/li[7]/label').click()\n"
   ]
  },
  {
   "cell_type": "code",
   "execution_count": null,
   "metadata": {},
   "outputs": [],
   "source": [
    "# Type of publication\n",
    "driver.find_element(By.XPATH,'/html/body/div[1]/div/main/div[2]/div/div[1]/div/div[2]/div/ul/button[4]').click()\n",
    "\n",
    "driver.find_element(By.XPATH,'/html/body/div[1]/div/main/div[2]/div/div[1]/div/div[2]/div/ul/ul[3]/li[1]/label').click()"
   ]
  },
  {
   "cell_type": "code",
   "execution_count": null,
   "metadata": {},
   "outputs": [],
   "source": [
    "# \n",
    "driver.find_element(By.XPATH,'/html/body/div[1]/div/main/div[2]/div/div[1]/div/div[2]/div/ul/button[4]').click()\n",
    "\n"
   ]
  },
  {
   "cell_type": "code",
   "execution_count": null,
   "metadata": {},
   "outputs": [
    {
     "ename": "NoSuchElementException",
     "evalue": "Message: no such element: Unable to locate element: {\"method\":\"xpath\",\"selector\":\"/html/body/div[1]/div/main/div[2]/div/div[1]/div/div[2]/div/ul/ul[4]/li[1]/label\"}\n  (Session info: chrome=119.0.6045.124); For documentation on this error, please visit: https://www.selenium.dev/documentation/webdriver/troubleshooting/errors#no-such-element-exception\nStacktrace:\n\tGetHandleVerifier [0x00007FF6CA0382B2+55298]\n\t(No symbol) [0x00007FF6C9FA5E02]\n\t(No symbol) [0x00007FF6C9E605AB]\n\t(No symbol) [0x00007FF6C9EA175C]\n\t(No symbol) [0x00007FF6C9EA18DC]\n\t(No symbol) [0x00007FF6C9EDCBC7]\n\t(No symbol) [0x00007FF6C9EC20EF]\n\t(No symbol) [0x00007FF6C9EDAAA4]\n\t(No symbol) [0x00007FF6C9EC1E83]\n\t(No symbol) [0x00007FF6C9E9670A]\n\t(No symbol) [0x00007FF6C9E97964]\n\tGetHandleVerifier [0x00007FF6CA3B0AAB+3694587]\n\tGetHandleVerifier [0x00007FF6CA40728E+4048862]\n\tGetHandleVerifier [0x00007FF6CA3FF173+4015811]\n\tGetHandleVerifier [0x00007FF6CA0D47D6+695590]\n\t(No symbol) [0x00007FF6C9FB0CE8]\n\t(No symbol) [0x00007FF6C9FACF34]\n\t(No symbol) [0x00007FF6C9FAD062]\n\t(No symbol) [0x00007FF6C9F9D3A3]\n\tBaseThreadInitThunk [0x00007FFD7065257D+29]\n\tRtlUserThreadStart [0x00007FFD71C0AA78+40]\n",
     "output_type": "error",
     "traceback": [
      "\u001b[1;31m---------------------------------------------------------------------------\u001b[0m",
      "\u001b[1;31mNoSuchElementException\u001b[0m                    Traceback (most recent call last)",
      "\u001b[1;32mc:\\Users\\haitp\\projects\\FIN6778-sentimentanalysis-plus-scrapping\\scraper.ipynb Cell 14\u001b[0m line \u001b[0;36m1\n\u001b[1;32m----> <a href='vscode-notebook-cell:/c%3A/Users/haitp/projects/FIN6778-sentimentanalysis-plus-scrapping/scraper.ipynb#X24sZmlsZQ%3D%3D?line=0'>1</a>\u001b[0m driver\u001b[39m.\u001b[39;49mfind_element(By\u001b[39m.\u001b[39;49mXPATH,\u001b[39m'\u001b[39;49m\u001b[39m/html/body/div[1]/div/main/div[2]/div/div[1]/div/div[2]/div/ul/ul[4]/li[1]/label\u001b[39;49m\u001b[39m'\u001b[39;49m)\u001b[39m.\u001b[39mclick()\n",
      "File \u001b[1;32m~\\AppData\\Roaming\\Python\\Python38\\site-packages\\selenium\\webdriver\\remote\\webdriver.py:741\u001b[0m, in \u001b[0;36mWebDriver.find_element\u001b[1;34m(self, by, value)\u001b[0m\n\u001b[0;32m    738\u001b[0m     by \u001b[39m=\u001b[39m By\u001b[39m.\u001b[39mCSS_SELECTOR\n\u001b[0;32m    739\u001b[0m     value \u001b[39m=\u001b[39m \u001b[39mf\u001b[39m\u001b[39m'\u001b[39m\u001b[39m[name=\u001b[39m\u001b[39m\"\u001b[39m\u001b[39m{\u001b[39;00mvalue\u001b[39m}\u001b[39;00m\u001b[39m\"\u001b[39m\u001b[39m]\u001b[39m\u001b[39m'\u001b[39m\n\u001b[1;32m--> 741\u001b[0m \u001b[39mreturn\u001b[39;00m \u001b[39mself\u001b[39;49m\u001b[39m.\u001b[39;49mexecute(Command\u001b[39m.\u001b[39;49mFIND_ELEMENT, {\u001b[39m\"\u001b[39;49m\u001b[39musing\u001b[39;49m\u001b[39m\"\u001b[39;49m: by, \u001b[39m\"\u001b[39;49m\u001b[39mvalue\u001b[39;49m\u001b[39m\"\u001b[39;49m: value})[\u001b[39m\"\u001b[39m\u001b[39mvalue\u001b[39m\u001b[39m\"\u001b[39m]\n",
      "File \u001b[1;32m~\\AppData\\Roaming\\Python\\Python38\\site-packages\\selenium\\webdriver\\remote\\webdriver.py:347\u001b[0m, in \u001b[0;36mWebDriver.execute\u001b[1;34m(self, driver_command, params)\u001b[0m\n\u001b[0;32m    345\u001b[0m response \u001b[39m=\u001b[39m \u001b[39mself\u001b[39m\u001b[39m.\u001b[39mcommand_executor\u001b[39m.\u001b[39mexecute(driver_command, params)\n\u001b[0;32m    346\u001b[0m \u001b[39mif\u001b[39;00m response:\n\u001b[1;32m--> 347\u001b[0m     \u001b[39mself\u001b[39;49m\u001b[39m.\u001b[39;49merror_handler\u001b[39m.\u001b[39;49mcheck_response(response)\n\u001b[0;32m    348\u001b[0m     response[\u001b[39m\"\u001b[39m\u001b[39mvalue\u001b[39m\u001b[39m\"\u001b[39m] \u001b[39m=\u001b[39m \u001b[39mself\u001b[39m\u001b[39m.\u001b[39m_unwrap_value(response\u001b[39m.\u001b[39mget(\u001b[39m\"\u001b[39m\u001b[39mvalue\u001b[39m\u001b[39m\"\u001b[39m, \u001b[39mNone\u001b[39;00m))\n\u001b[0;32m    349\u001b[0m     \u001b[39mreturn\u001b[39;00m response\n",
      "File \u001b[1;32m~\\AppData\\Roaming\\Python\\Python38\\site-packages\\selenium\\webdriver\\remote\\errorhandler.py:229\u001b[0m, in \u001b[0;36mErrorHandler.check_response\u001b[1;34m(self, response)\u001b[0m\n\u001b[0;32m    227\u001b[0m         alert_text \u001b[39m=\u001b[39m value[\u001b[39m\"\u001b[39m\u001b[39malert\u001b[39m\u001b[39m\"\u001b[39m]\u001b[39m.\u001b[39mget(\u001b[39m\"\u001b[39m\u001b[39mtext\u001b[39m\u001b[39m\"\u001b[39m)\n\u001b[0;32m    228\u001b[0m     \u001b[39mraise\u001b[39;00m exception_class(message, screen, stacktrace, alert_text)  \u001b[39m# type: ignore[call-arg]  # mypy is not smart enough here\u001b[39;00m\n\u001b[1;32m--> 229\u001b[0m \u001b[39mraise\u001b[39;00m exception_class(message, screen, stacktrace)\n",
      "\u001b[1;31mNoSuchElementException\u001b[0m: Message: no such element: Unable to locate element: {\"method\":\"xpath\",\"selector\":\"/html/body/div[1]/div/main/div[2]/div/div[1]/div/div[2]/div/ul/ul[4]/li[1]/label\"}\n  (Session info: chrome=119.0.6045.124); For documentation on this error, please visit: https://www.selenium.dev/documentation/webdriver/troubleshooting/errors#no-such-element-exception\nStacktrace:\n\tGetHandleVerifier [0x00007FF6CA0382B2+55298]\n\t(No symbol) [0x00007FF6C9FA5E02]\n\t(No symbol) [0x00007FF6C9E605AB]\n\t(No symbol) [0x00007FF6C9EA175C]\n\t(No symbol) [0x00007FF6C9EA18DC]\n\t(No symbol) [0x00007FF6C9EDCBC7]\n\t(No symbol) [0x00007FF6C9EC20EF]\n\t(No symbol) [0x00007FF6C9EDAAA4]\n\t(No symbol) [0x00007FF6C9EC1E83]\n\t(No symbol) [0x00007FF6C9E9670A]\n\t(No symbol) [0x00007FF6C9E97964]\n\tGetHandleVerifier [0x00007FF6CA3B0AAB+3694587]\n\tGetHandleVerifier [0x00007FF6CA40728E+4048862]\n\tGetHandleVerifier [0x00007FF6CA3FF173+4015811]\n\tGetHandleVerifier [0x00007FF6CA0D47D6+695590]\n\t(No symbol) [0x00007FF6C9FB0CE8]\n\t(No symbol) [0x00007FF6C9FACF34]\n\t(No symbol) [0x00007FF6C9FAD062]\n\t(No symbol) [0x00007FF6C9F9D3A3]\n\tBaseThreadInitThunk [0x00007FFD7065257D+29]\n\tRtlUserThreadStart [0x00007FFD71C0AA78+40]\n"
     ]
    }
   ],
   "source": [
    "driver.find_element(By.XPATH,'/html/body/div[1]/div/main/div[2]/div/div[1]/div/div[2]/div/ul/ul[4]/li[1]/label').click()\n"
   ]
  },
  {
   "cell_type": "code",
   "execution_count": null,
   "metadata": {},
   "outputs": [],
   "source": [
    "# driver.close()"
   ]
  }
 ],
 "metadata": {
  "kernelspec": {
   "display_name": "Python 3",
   "language": "python",
   "name": "python3"
  },
  "language_info": {
   "codemirror_mode": {
    "name": "ipython",
    "version": 3
   },
   "file_extension": ".py",
   "mimetype": "text/x-python",
   "name": "python",
   "nbconvert_exporter": "python",
   "pygments_lexer": "ipython3",
   "version": "3.8.2"
  }
 },
 "nbformat": 4,
 "nbformat_minor": 2
}
